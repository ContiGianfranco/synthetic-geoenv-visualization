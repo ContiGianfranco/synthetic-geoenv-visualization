{
  "cells": [
    {
      "cell_type": "code",
      "execution_count": null,
      "metadata": {
        "colab": {
          "base_uri": "https://localhost:8080/"
        },
        "id": "94j2YpYlOzun",
        "outputId": "bc4a9fe6-1c81-4321-b38a-4fe08c092fbc"
      },
      "outputs": [
        {
          "output_type": "stream",
          "name": "stdout",
          "text": [
            "Requirement already satisfied: rasterio in /usr/local/lib/python3.10/dist-packages (1.3.9)\n",
            "Requirement already satisfied: affine in /usr/local/lib/python3.10/dist-packages (from rasterio) (2.4.0)\n",
            "Requirement already satisfied: attrs in /usr/local/lib/python3.10/dist-packages (from rasterio) (23.2.0)\n",
            "Requirement already satisfied: certifi in /usr/local/lib/python3.10/dist-packages (from rasterio) (2024.2.2)\n",
            "Requirement already satisfied: click>=4.0 in /usr/local/lib/python3.10/dist-packages (from rasterio) (8.1.7)\n",
            "Requirement already satisfied: cligj>=0.5 in /usr/local/lib/python3.10/dist-packages (from rasterio) (0.7.2)\n",
            "Requirement already satisfied: numpy in /usr/local/lib/python3.10/dist-packages (from rasterio) (1.25.2)\n",
            "Requirement already satisfied: snuggs>=1.4.1 in /usr/local/lib/python3.10/dist-packages (from rasterio) (1.4.7)\n",
            "Requirement already satisfied: click-plugins in /usr/local/lib/python3.10/dist-packages (from rasterio) (1.1.1)\n",
            "Requirement already satisfied: setuptools in /usr/local/lib/python3.10/dist-packages (from rasterio) (67.7.2)\n",
            "Requirement already satisfied: pyparsing>=2.1.6 in /usr/local/lib/python3.10/dist-packages (from snuggs>=1.4.1->rasterio) (3.1.1)\n",
            "Requirement already satisfied: scipy in /usr/local/lib/python3.10/dist-packages (1.11.4)\n",
            "Requirement already satisfied: numpy<1.28.0,>=1.21.6 in /usr/local/lib/python3.10/dist-packages (from scipy) (1.25.2)\n"
          ]
        }
      ],
      "source": [
        "!pip install rasterio\n",
        "!pip install scipy"
      ]
    },
    {
      "cell_type": "code",
      "execution_count": null,
      "metadata": {
        "id": "7U-1TvNfO4lC"
      },
      "outputs": [],
      "source": [
        "from rasterio.plot import show\n",
        "from scipy.interpolate import griddata\n",
        "from rasterio.transform import Affine\n",
        "\n",
        "import rasterio\n",
        "import numpy as np"
      ]
    },
    {
      "cell_type": "markdown",
      "metadata": {
        "id": "8zhzDzfrPFbs"
      },
      "source": [
        "Importar fuente"
      ]
    },
    {
      "cell_type": "code",
      "execution_count": null,
      "metadata": {
        "colab": {
          "base_uri": "https://localhost:8080/",
          "height": 331
        },
        "id": "hVKVe_qhO0Ss",
        "outputId": "17fc9d57-11ca-4f32-f094-cde9a22e58e5"
      },
      "outputs": [
        {
          "output_type": "display_data",
          "data": {
            "text/plain": [
              "<Figure size 640x480 with 1 Axes>"
            ],
            "image/png": "[encoded data removed]"
          },
          "metadata": {}
        },
        {
          "output_type": "execute_result",
          "data": {
            "text/plain": [
              "BoundingBox(left=-58.0, bottom=-54.0, right=-56.0, top=-53.0)"
            ]
          },
          "metadata": {},
          "execution_count": 228
        }
      ],
      "source": [
        "src = rasterio.open(\"S54W058_D001_S001_T001_L00_U0_R0.tif\")\n",
        "show(src)\n",
        "src.bounds"
      ]
    },
    {
      "cell_type": "code",
      "execution_count": null,
      "metadata": {
        "id": "6TKEJGWuzYYM"
      },
      "outputs": [],
      "source": [
        "band1 = src.read(1)\n",
        "\n",
        "grid_x, grid_y = np.mgrid[-58:-56:512j, -55:-54:512j]\n",
        "\n",
        "points_x = np.linspace(-58, -56, num=1024, endpoint=True)\n",
        "points_y = np.linspace(-55, -54, num=1024, endpoint=True)\n",
        "\n",
        "points = []\n",
        "values = []\n",
        "\n",
        "for y in range(1024):\n",
        "  for x in range(1024):\n",
        "    points.append((points_x[x], points_y[y]))\n",
        "    values.append(band1[x][y])\n",
        "\n",
        "grid_z1 = griddata(points, values, (grid_x, grid_y), method='linear')"
      ]
    },
    {
      "cell_type": "code",
      "execution_count": null,
      "metadata": {
        "colab": {
          "base_uri": "https://localhost:8080/",
          "height": 331
        },
        "id": "-R0ZJ2M0iKMZ",
        "outputId": "f4a2e0be-15c8-43f6-8aec-14d4e480e976"
      },
      "outputs": [
        {
          "output_type": "display_data",
          "data": {
            "text/plain": [
              "<Figure size 640x480 with 1 Axes>"
            ],
            "image/png": "[encoded data removed]"
          },
          "metadata": {}
        },
        {
          "output_type": "execute_result",
          "data": {
            "text/plain": [
              "BoundingBox(left=-58.0, bottom=-54.0, right=-56.0, top=-53.0)"
            ]
          },
          "metadata": {},
          "execution_count": 230
        }
      ],
      "source": [
        "file_name = \"S54W058_D001_S001_T001_LC01_U0_R0.tif\"\n",
        "tforigin = None\n",
        "tfnew = None\n",
        "\n",
        "with rasterio.Env():\n",
        "    size = len(grid_z1)\n",
        "    profile = src.profile\n",
        "    profile['height'] = size\n",
        "    profile['width'] = size\n",
        "    tforigin = profile['transform']\n",
        "    tfnew = Affine(2/size, 0.0, -58.0, 0.0, -1/size, -53.0)\n",
        "    profile['transform'] = tfnew\n",
        "\n",
        "    with rasterio.open(file_name, 'w', **profile) as dst:\n",
        "        dst.write(grid_z1.astype(rasterio.float64), 1)\n",
        "\n",
        "src = rasterio.open(file_name)\n",
        "show(src)\n",
        "src.bounds"
      ]
    },
    {
      "cell_type": "code",
      "source": [
        "len(src.read(1))"
      ],
      "metadata": {
        "colab": {
          "base_uri": "https://localhost:8080/"
        },
        "id": "YHjV-AYZx4Md",
        "outputId": "88f8a429-6c1e-4651-ce85-7eaa5fb3b3c6"
      },
      "execution_count": null,
      "outputs": [
        {
          "output_type": "execute_result",
          "data": {
            "text/plain": [
              "512"
            ]
          },
          "metadata": {},
          "execution_count": 231
        }
      ]
    },
    {
      "cell_type": "code",
      "execution_count": null,
      "metadata": {
        "colab": {
          "base_uri": "https://localhost:8080/",
          "height": 545
        },
        "id": "qqhK41HE2oHv",
        "outputId": "86b5e6f3-7118-41d9-96b5-a963df8b615c"
      },
      "outputs": [
        {
          "output_type": "display_data",
          "data": {
            "text/plain": [
              "<Figure size 600x600 with 1 Axes>"
            ],
            "image/png": "[encoded data removed]"
          },
          "metadata": {}
        }
      ],
      "source": [
        "import matplotlib.pyplot as plt\n",
        "plt.imshow(grid_z1)\n",
        "plt.title('Linear')\n",
        "plt.gcf().set_size_inches(6, 6)\n",
        "plt.show()"
      ]
    },
    {
      "cell_type": "code",
      "execution_count": null,
      "metadata": {
        "cellView": "form",
        "id": "fXoaSHnKMUwM"
      },
      "outputs": [],
      "source": [
        "# @title\n",
        "def update_points(lon, lat, list):\n",
        "  index_lon = 0\n",
        "  index_lat = 0\n",
        "\n",
        "  while (list[0][index_lon][0] < lon):\n",
        "    index_lon += 1\n",
        "\n",
        "  while (list[index_lat][0][1] > lat):\n",
        "    index_lat += 1\n",
        "\n",
        "  if (index_lat == len(list)):\n",
        "    index_lat = index_lat - 1\n",
        "  if (index_lon == len(list[0])):\n",
        "    index_lon = index_lon - 1\n",
        "\n",
        "  if (index_lat == 0):\n",
        "    index_lat = index_lat + 1\n",
        "  if (index_lon == 0):\n",
        "    index_lon = index_lon + 1\n",
        "\n",
        "  return [(list[index_lat-1][index_lon-1]),\n",
        "         (list[index_lat-1][index_lon]),\n",
        "         (list[index_lat][index_lon-1]),\n",
        "         (list[index_lat][index_lon]),\n",
        "    ]\n",
        "\n",
        "def binterpolation(x, y, points):\n",
        "    pts = sorted(points)\n",
        "    (x1, y1, q11), (_x1, y2, q12), (x2, _y1, q21), (_x2, _y2, q22) = pts\n",
        "    if x1 != _x1 or x2 != _x2 or y1 != _y1 or y2 != _y2:\n",
        "        print('The given points do not form a rectangle')\n",
        "    if not x1 <= x <= x2 or not y1 <= y <= y2:\n",
        "        print('The (x, y) coordinates are not within the rectangle')\n",
        "    P = (q11 * (x2 - x) * (y2 - y) +\n",
        "            q21 * (x - x1) * (y2 - y) +\n",
        "            q12 * (x2 - x) * (y - y1) +\n",
        "            q22 * (x - x1) * (y - y1)\n",
        "           ) / ((x2 - x1) * (y2 - y1) + 0.0)\n",
        "    return P\n",
        "\n",
        "def init_list(initial_list, left, bottom, right, top):\n",
        "  latitud_len = len(initial_list)\n",
        "  longitud_len = len(initial_list[0])\n",
        "\n",
        "  lat_resolution = (top - bottom) / (latitud_len - 1)\n",
        "  long_resulution = (right - left) / (longitud_len - 1)\n",
        "\n",
        "  result = []\n",
        "  for i in range(0, latitud_len):\n",
        "    tmp_lat = []\n",
        "    for j in range(0, longitud_len):\n",
        "      tmp_lat.append((\n",
        "            top - lat_resolution*i,\n",
        "            left + long_resulution*j,\n",
        "            initial_list[i][j],\n",
        "      ))\n",
        "    result.append(tmp_lat)\n",
        "\n",
        "  return result\n",
        "\n",
        "def generate_LOD00(data, left, bottom, right, top):\n",
        "  original_info = init_list(data, left, bottom, right, top)\n",
        "\n",
        "  lon_size = (right - left)\n",
        "  lat_size = top - bottom\n",
        "\n",
        "  row = int(lat_size * 1024)\n",
        "  col = int((lon_size/2) * 1024) # Se dividido por 2 ya que estamos en latitudes de mas de 50°\n",
        "\n",
        "  res_lon = lon_size/(col-1)\n",
        "  res_lat = lat_size/(row-1)\n",
        "\n",
        "  print(f'left{left}, bottom{bottom}, right{right}, top{top}')\n",
        "\n",
        "  result = np.ndarray(shape=(row,col), dtype=float)\n",
        "\n",
        "  for i in range(0,row):\n",
        "    lat = top - i*res_lat\n",
        "    for j in range(0,col):\n",
        "      lon = left + j*res_lon\n",
        "      points = update_points(lon, lat, original_info)\n",
        "      result[i][j] = binterpolation(lon, lat, points)\n",
        "\n",
        "  return result"
      ]
    }
  ],
  "metadata": {
    "colab": {
      "provenance": []
    },
    "kernelspec": {
      "display_name": "Python 3",
      "name": "python3"
    },
    "language_info": {
      "name": "python"
    }
  },
  "nbformat": 4,
  "nbformat_minor": 0
}